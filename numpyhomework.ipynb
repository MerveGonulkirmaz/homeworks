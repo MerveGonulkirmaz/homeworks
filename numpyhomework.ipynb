{
 "cells": [
  {
   "cell_type": "code",
   "execution_count": 3,
   "id": "b2f20949",
   "metadata": {},
   "outputs": [],
   "source": [
    "import numpy as np\n",
    "np.array([1,2,3,4,5])\n",
    "b= np.array([1,2,3,4,5])\n",
    "\n"
   ]
  },
  {
   "cell_type": "code",
   "execution_count": 4,
   "id": "78823169",
   "metadata": {},
   "outputs": [
    {
     "data": {
      "text/plain": [
       "array([[0, 0, 0, 0, 0],\n",
       "       [0, 0, 0, 0, 0],\n",
       "       [0, 0, 0, 0, 0],\n",
       "       [0, 0, 0, 0, 0]])"
      ]
     },
     "execution_count": 4,
     "metadata": {},
     "output_type": "execute_result"
    }
   ],
   "source": [
    "np.zeros((4,5), dtype = int)"
   ]
  },
  {
   "cell_type": "code",
   "execution_count": 5,
   "id": "af2a1e32",
   "metadata": {},
   "outputs": [
    {
     "data": {
      "text/plain": [
       "array([[7, 7, 7, 7, 7],\n",
       "       [7, 7, 7, 7, 7],\n",
       "       [7, 7, 7, 7, 7]])"
      ]
     },
     "execution_count": 5,
     "metadata": {},
     "output_type": "execute_result"
    }
   ],
   "source": [
    "np.full((3,5), 7)"
   ]
  },
  {
   "cell_type": "code",
   "execution_count": 6,
   "id": "44baaf5e",
   "metadata": {},
   "outputs": [
    {
     "data": {
      "text/plain": [
       "array([10, 15, 20, 25, 30, 35, 40, 45, 50, 55, 60, 65, 70])"
      ]
     },
     "execution_count": 6,
     "metadata": {},
     "output_type": "execute_result"
    }
   ],
   "source": [
    "np.arange(10,71,5)"
   ]
  },
  {
   "cell_type": "code",
   "execution_count": 7,
   "id": "bf0926bc",
   "metadata": {},
   "outputs": [
    {
     "data": {
      "text/plain": [
       "array([10.        , 10.71428571, 11.42857143, 12.14285714, 12.85714286,\n",
       "       13.57142857, 14.28571429, 15.        , 15.71428571, 16.42857143,\n",
       "       17.14285714, 17.85714286, 18.57142857, 19.28571429, 20.        ])"
      ]
     },
     "execution_count": 7,
     "metadata": {},
     "output_type": "execute_result"
    }
   ],
   "source": [
    "np.linspace(10,20,15)"
   ]
  },
  {
   "cell_type": "code",
   "execution_count": 8,
   "id": "86a25f82",
   "metadata": {},
   "outputs": [
    {
     "data": {
      "text/plain": [
       "array([0.71066969, 0.38851482, 0.74682499, 0.2563956 , 0.41086033,\n",
       "       0.43360866, 0.40253627, 0.6237451 , 0.1406791 , 0.36574894,\n",
       "       0.71440103, 0.34958481, 0.77680152, 0.29163448, 0.32275487])"
      ]
     },
     "execution_count": 8,
     "metadata": {},
     "output_type": "execute_result"
    }
   ],
   "source": [
    "np.random.rand(15)"
   ]
  },
  {
   "cell_type": "code",
   "execution_count": 9,
   "id": "bf1119bf",
   "metadata": {},
   "outputs": [
    {
     "data": {
      "text/plain": [
       "array([[1., 0., 0., 0., 0.],\n",
       "       [0., 1., 0., 0., 0.],\n",
       "       [0., 0., 1., 0., 0.],\n",
       "       [0., 0., 0., 1., 0.],\n",
       "       [0., 0., 0., 0., 1.]])"
      ]
     },
     "execution_count": 9,
     "metadata": {},
     "output_type": "execute_result"
    }
   ],
   "source": [
    "np.eye(5)"
   ]
  },
  {
   "cell_type": "code",
   "execution_count": 10,
   "id": "7d2a6bfa",
   "metadata": {},
   "outputs": [],
   "source": [
    "m=np.arange(0,24)"
   ]
  },
  {
   "cell_type": "code",
   "execution_count": 11,
   "id": "74fbe7ca",
   "metadata": {},
   "outputs": [
    {
     "data": {
      "text/plain": [
       "array([ 0,  1,  2,  3,  4,  5,  6,  7,  8,  9, 10, 11, 12, 13, 14, 15, 16,\n",
       "       17, 18, 19, 20, 21, 22, 23])"
      ]
     },
     "execution_count": 11,
     "metadata": {},
     "output_type": "execute_result"
    }
   ],
   "source": [
    "m"
   ]
  },
  {
   "cell_type": "code",
   "execution_count": 12,
   "id": "ff799fc4",
   "metadata": {},
   "outputs": [
    {
     "data": {
      "text/plain": [
       "array([[ 0,  1,  2,  3,  4,  5],\n",
       "       [ 6,  7,  8,  9, 10, 11],\n",
       "       [12, 13, 14, 15, 16, 17],\n",
       "       [18, 19, 20, 21, 22, 23]])"
      ]
     },
     "execution_count": 12,
     "metadata": {},
     "output_type": "execute_result"
    }
   ],
   "source": [
    "m.reshape(4,6)"
   ]
  },
  {
   "cell_type": "code",
   "execution_count": 13,
   "id": "b5eb119b",
   "metadata": {},
   "outputs": [],
   "source": [
    "array=np.random.rand(10)"
   ]
  },
  {
   "cell_type": "code",
   "execution_count": 14,
   "id": "4f9af1be",
   "metadata": {},
   "outputs": [
    {
     "data": {
      "text/plain": [
       "array([0.01862607, 0.40097357, 0.11469196, 0.1228986 , 0.02626838,\n",
       "       0.7607561 , 0.4314399 , 0.23874929, 0.40097365, 0.37685223])"
      ]
     },
     "execution_count": 14,
     "metadata": {},
     "output_type": "execute_result"
    }
   ],
   "source": [
    "array"
   ]
  },
  {
   "cell_type": "code",
   "execution_count": 15,
   "id": "d2859753",
   "metadata": {},
   "outputs": [
    {
     "data": {
      "text/plain": [
       "0.7607561040602918"
      ]
     },
     "execution_count": 15,
     "metadata": {},
     "output_type": "execute_result"
    }
   ],
   "source": [
    "array.max()"
   ]
  },
  {
   "cell_type": "code",
   "execution_count": 16,
   "id": "2ba13cf2",
   "metadata": {},
   "outputs": [
    {
     "data": {
      "text/plain": [
       "0.018626070636598713"
      ]
     },
     "execution_count": 16,
     "metadata": {},
     "output_type": "execute_result"
    }
   ],
   "source": [
    "array.min()"
   ]
  },
  {
   "cell_type": "code",
   "execution_count": 17,
   "id": "3a45f946",
   "metadata": {},
   "outputs": [],
   "source": [
    "merve=np.random.rand(36).reshape((6,6))\n"
   ]
  },
  {
   "cell_type": "code",
   "execution_count": 18,
   "id": "37fe1172",
   "metadata": {},
   "outputs": [
    {
     "data": {
      "text/plain": [
       "array([[0.72531484, 0.67026793, 0.30201779, 0.42558664, 0.19289585,\n",
       "        0.35021712],\n",
       "       [0.07613972, 0.37841366, 0.41259203, 0.85175123, 0.68947904,\n",
       "        0.40764787],\n",
       "       [0.49570752, 0.75562556, 0.84255228, 0.94589383, 0.57667099,\n",
       "        0.77685179],\n",
       "       [0.71675522, 0.27086087, 0.41959471, 0.02813   , 0.88385908,\n",
       "        0.66419422],\n",
       "       [0.14228925, 0.49970026, 0.04623245, 0.216392  , 0.31087829,\n",
       "        0.60528952],\n",
       "       [0.69274853, 0.97509854, 0.34301251, 0.45120094, 0.64792546,\n",
       "        0.49348922]])"
      ]
     },
     "execution_count": 18,
     "metadata": {},
     "output_type": "execute_result"
    }
   ],
   "source": [
    "merve"
   ]
  },
  {
   "cell_type": "code",
   "execution_count": 19,
   "id": "0a54b9cc",
   "metadata": {},
   "outputs": [
    {
     "data": {
      "text/plain": [
       "array([[0.14228925, 0.49970026, 0.04623245, 0.216392  , 0.31087829,\n",
       "        0.60528952]])"
      ]
     },
     "execution_count": 19,
     "metadata": {},
     "output_type": "execute_result"
    }
   ],
   "source": [
    "merve[4:-1]"
   ]
  },
  {
   "cell_type": "code",
   "execution_count": 20,
   "id": "89b953c2",
   "metadata": {},
   "outputs": [
    {
     "data": {
      "text/plain": [
       "array([[0.49348922]])"
      ]
     },
     "execution_count": 20,
     "metadata": {},
     "output_type": "execute_result"
    }
   ],
   "source": [
    "merve[5:,5:]"
   ]
  },
  {
   "cell_type": "code",
   "execution_count": 21,
   "id": "db6415a7",
   "metadata": {},
   "outputs": [
    {
     "data": {
      "text/plain": [
       "array([0.42558664, 0.85175123, 0.94589383, 0.02813   , 0.216392  ,\n",
       "       0.45120094])"
      ]
     },
     "execution_count": 21,
     "metadata": {},
     "output_type": "execute_result"
    }
   ],
   "source": [
    "merve[:,3]"
   ]
  },
  {
   "cell_type": "code",
   "execution_count": 23,
   "id": "02a1f24e",
   "metadata": {},
   "outputs": [
    {
     "name": "stdout",
     "output_type": "stream",
     "text": [
      "0.7253148446422891\n",
      "0.6702679319568939\n",
      "0.3020177888563881\n",
      "0.42558664388997447\n",
      "0.1928958506769558\n",
      "0.3502171198159335\n",
      "0.07613971793032248\n",
      "0.37841365992249165\n",
      "0.41259203233116637\n",
      "0.8517512322108298\n",
      "0.6894790440854752\n",
      "0.40764787160555005\n",
      "0.4957075180567333\n",
      "0.7556255563502069\n",
      "0.8425522837082182\n",
      "0.9458938332953641\n",
      "0.5766709901124233\n",
      "0.7768517879650653\n",
      "0.7167552197935025\n",
      "0.2708608735096809\n",
      "0.41959470565840085\n",
      "0.02813000332660065\n",
      "0.8838590799999547\n",
      "0.6641942184825482\n",
      "0.1422892450578821\n",
      "0.4997002616030156\n",
      "0.046232451798632446\n",
      "0.2163920020686172\n",
      "0.31087828601301715\n",
      "0.6052895197704895\n",
      "0.6927485313289534\n",
      "0.9750985421584406\n",
      "0.3430125083087131\n",
      "0.4512009379826789\n",
      "0.6479254566262678\n",
      "0.49348922087596614\n"
     ]
    }
   ],
   "source": [
    "for i in merve.flat:\n",
    "    print(i)"
   ]
  },
  {
   "cell_type": "code",
   "execution_count": 27,
   "id": "79893a4a",
   "metadata": {},
   "outputs": [],
   "source": [
    "n=np.random.rand(1)"
   ]
  },
  {
   "cell_type": "code",
   "execution_count": 28,
   "id": "60599fb5",
   "metadata": {},
   "outputs": [
    {
     "data": {
      "text/plain": [
       "array([0.05885748])"
      ]
     },
     "execution_count": 28,
     "metadata": {},
     "output_type": "execute_result"
    }
   ],
   "source": [
    "n"
   ]
  },
  {
   "cell_type": "code",
   "execution_count": 29,
   "id": "d6fcd150",
   "metadata": {},
   "outputs": [
    {
     "data": {
      "text/plain": [
       "array([0.2942874])"
      ]
     },
     "execution_count": 29,
     "metadata": {},
     "output_type": "execute_result"
    }
   ],
   "source": [
    "n*5"
   ]
  },
  {
   "cell_type": "code",
   "execution_count": 31,
   "id": "d3c9664f",
   "metadata": {},
   "outputs": [
    {
     "data": {
      "text/plain": [
       "18.283276771775643"
      ]
     },
     "execution_count": 31,
     "metadata": {},
     "output_type": "execute_result"
    }
   ],
   "source": [
    "np.sum(merve)"
   ]
  },
  {
   "cell_type": "code",
   "execution_count": 32,
   "id": "50241943",
   "metadata": {},
   "outputs": [
    {
     "data": {
      "text/plain": [
       "0.2554513966923895"
      ]
     },
     "execution_count": 32,
     "metadata": {},
     "output_type": "execute_result"
    }
   ],
   "source": [
    "np.std(merve)"
   ]
  },
  {
   "cell_type": "code",
   "execution_count": 33,
   "id": "c855d33f",
   "metadata": {},
   "outputs": [
    {
     "data": {
      "text/plain": [
       "0.06525541607209252"
      ]
     },
     "execution_count": 33,
     "metadata": {},
     "output_type": "execute_result"
    }
   ],
   "source": [
    "np.var(merve)"
   ]
  },
  {
   "cell_type": "code",
   "execution_count": 34,
   "id": "f02e9c17",
   "metadata": {},
   "outputs": [],
   "source": [
    "merve = merve.T"
   ]
  },
  {
   "cell_type": "code",
   "execution_count": 35,
   "id": "e1edf4cb",
   "metadata": {},
   "outputs": [
    {
     "data": {
      "text/plain": [
       "array([[0.72531484, 0.07613972, 0.49570752, 0.71675522, 0.14228925,\n",
       "        0.69274853],\n",
       "       [0.67026793, 0.37841366, 0.75562556, 0.27086087, 0.49970026,\n",
       "        0.97509854],\n",
       "       [0.30201779, 0.41259203, 0.84255228, 0.41959471, 0.04623245,\n",
       "        0.34301251],\n",
       "       [0.42558664, 0.85175123, 0.94589383, 0.02813   , 0.216392  ,\n",
       "        0.45120094],\n",
       "       [0.19289585, 0.68947904, 0.57667099, 0.88385908, 0.31087829,\n",
       "        0.64792546],\n",
       "       [0.35021712, 0.40764787, 0.77685179, 0.66419422, 0.60528952,\n",
       "        0.49348922]])"
      ]
     },
     "execution_count": 35,
     "metadata": {},
     "output_type": "execute_result"
    }
   ],
   "source": [
    "merve"
   ]
  },
  {
   "cell_type": "code",
   "execution_count": null,
   "id": "4dcda292",
   "metadata": {},
   "outputs": [],
   "source": []
  }
 ],
 "metadata": {
  "kernelspec": {
   "display_name": "Python 3 (ipykernel)",
   "language": "python",
   "name": "python3"
  },
  "language_info": {
   "codemirror_mode": {
    "name": "ipython",
    "version": 3
   },
   "file_extension": ".py",
   "mimetype": "text/x-python",
   "name": "python",
   "nbconvert_exporter": "python",
   "pygments_lexer": "ipython3",
   "version": "3.9.13"
  }
 },
 "nbformat": 4,
 "nbformat_minor": 5
}
